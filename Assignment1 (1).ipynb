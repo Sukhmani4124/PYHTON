{
  "cells": [
    {
      "cell_type": "code",
      "execution_count": 1,
      "metadata": {
        "colab": {
          "base_uri": "https://localhost:8080/"
        },
        "id": "rUftm2mOdMjS",
        "outputId": "40c57a52-0ad9-4968-928c-8d3a8486dfcd"
      },
      "outputs": [
        {
          "name": "stdout",
          "output_type": "stream",
          "text": [
            "\"Twinkle, twinkle, little star,\n",
            "\t How I wonder what you are!\n",
            "\t\t Up above the world so high,\n",
            "\t\t\t Like a diamond in the sky.\n",
            "\t\t\t\t Twinkle, twinkle, little star,\n",
            "\t\t\t\t\t How I wonder what you are\"\n"
          ]
        }
      ],
      "source": [
        "#Que1\n",
        "print('\"Twinkle, twinkle, little star,\\n\\t How I wonder what you are!\\n\\t\\t Up above the world so high,\\n\\t\\t\\t Like a diamond in the sky.\\n\\t\\t\\t\\t Twinkle, twinkle, little star,\\n\\t\\t\\t\\t\\t How I wonder what you are\"')\n"
      ]
    },
    {
      "cell_type": "code",
      "execution_count": 2,
      "metadata": {
        "colab": {
          "base_uri": "https://localhost:8080/"
        },
        "id": "S2SRk9_NdlRl",
        "outputId": "e23825f0-c73b-4ae7-d888-37bbffa95355"
      },
      "outputs": [
        {
          "name": "stdout",
          "output_type": "stream",
          "text": [
            "Enter your first name: sukhmani\n",
            "Enter your last name: kaur\n",
            "kaur sukhmani\n"
          ]
        }
      ],
      "source": [
        "#Que2\n",
        "f = input(\"Enter your first name: \")\n",
        "l= input(\"Enter your last name: \")\n",
        "print(l + \" \" + f)"
      ]
    },
    {
      "cell_type": "code",
      "execution_count": 3,
      "metadata": {
        "colab": {
          "base_uri": "https://localhost:8080/"
        },
        "id": "O-vJuPkvdwxE",
        "outputId": "cfa17a5b-6268-42a9-d60c-8d2563d39d49"
      },
      "outputs": [
        {
          "name": "stdout",
          "output_type": "stream",
          "text": [
            "Enter the value of radius of circle : 5.0\n",
            "Area of circle is :  78.5\n"
          ]
        }
      ],
      "source": [
        "#Que3\n",
        "r=float(input(\"Enter the value of radius of circle : \"))\n",
        "area=(3.14)*(r**2)\n",
        "print(\"Area of circle is : \",area)"
      ]
    },
    {
      "cell_type": "code",
      "execution_count": 4,
      "metadata": {
        "colab": {
          "base_uri": "https://localhost:8080/"
        },
        "id": "7rEoKV_JeuSv",
        "outputId": "9f27720b-b813-416d-b47b-603f11e25980"
      },
      "outputs": [
        {
          "name": "stdout",
          "output_type": "stream",
          "text": [
            "First color is :  Red\n",
            "Last color is :  Black\n"
          ]
        }
      ],
      "source": [
        "#Que4\n",
        "c=[\"Red\",\"Green\",\"White\" ,\"Black\"]\n",
        "f=c[0]\n",
        "l=c[3]\n",
        "print(\"First color is : \",f)\n",
        "print(\"Last color is : \",l)\n"
      ]
    },
    {
      "cell_type": "code",
      "execution_count": 5,
      "metadata": {
        "colab": {
          "base_uri": "https://localhost:8080/"
        },
        "id": "La4eXtKze7TC",
        "outputId": "3f19f9e6-600d-437f-f310-b52638f61b33"
      },
      "outputs": [
        {
          "name": "stdout",
          "output_type": "stream",
          "text": [
            "Enter the value  : 2\n",
            "answer is :  14\n"
          ]
        }
      ],
      "source": [
        "#Que5\n",
        "n=int(input(\"Enter the value  : \"))\n",
        "a=n+n*n+n*n*n\n",
        "print(\"answer is : \",a)"
      ]
    },
    {
      "cell_type": "code",
      "execution_count": 6,
      "metadata": {
        "colab": {
          "base_uri": "https://localhost:8080/"
        },
        "id": "dje9oKF8fKUW",
        "outputId": "353a8ec2-3a6b-43e0-de13-9a2fe53cc3a0"
      },
      "outputs": [
        {
          "name": "stdout",
          "output_type": "stream",
          "text": [
            "Enter the number: 4\n",
            "['4']\n",
            "('4',)\n"
          ]
        }
      ],
      "source": [
        "#Que6\n",
        "x = str(input(\"Enter the number: \")).split(\",\")\n",
        "print(x)\n",
        "x = tuple(x)\n",
        "print(x)\n"
      ]
    },
    {
      "cell_type": "code",
      "execution_count": 7,
      "metadata": {
        "colab": {
          "base_uri": "https://localhost:8080/"
        },
        "id": "ESvc6qUEfU7h",
        "outputId": "e049b528-026e-4246-b9a0-1b6a329a810b"
      },
      "outputs": [
        {
          "name": "stdout",
          "output_type": "stream",
          "text": [
            "Enter the temprature in Celsius: 45\n",
            "Temprature in Fahrenheit is :   113.0\n"
          ]
        }
      ],
      "source": [
        "#Que7\n",
        "Cel=float(input(\"Enter the temprature in Celsius: \"))\n",
        "F=(1.8)*Cel+32\n",
        "print(\"Temprature in Fahrenheit is :  \",F)\n"
      ]
    },
    {
      "cell_type": "code",
      "execution_count": 10,
      "metadata": {
        "colab": {
          "base_uri": "https://localhost:8080/"
        },
        "id": "6PihYNTpfkRB",
        "outputId": "3f2213f1-c2dc-43f7-ba6b-5eafea3d9ca0"
      },
      "outputs": [
        {
          "name": "stdout",
          "output_type": "stream",
          "text": [
            "Enter the value of a : 4\n",
            "Enter the value of b : 5\n",
            "Value of a and b after swapping is :  5 4\n",
            "Value of a after increment is :  6\n"
          ]
        }
      ],
      "source": [
        "#Que8\n",
        "a=int(input(\"Enter the value of a : \"))\n",
        "b=int(input(\"Enter the value of b : \"))\n",
        "a=a+b\n",
        "b=a-b\n",
        "a=a-b\n",
        "print(\"Value of a and b after swapping is : \",a,b)\n",
        "a+=1\n",
        "print(\"Value of a after increment is : \",a)\n",
        "\n"
      ]
    },
    {
      "cell_type": "code",
      "execution_count": 11,
      "metadata": {
        "colab": {
          "base_uri": "https://localhost:8080/"
        },
        "id": "xQ1aYYeJjH-k",
        "outputId": "5d0ac09f-1d13-4158-eef4-3b30ee617eff"
      },
      "outputs": [
        {
          "name": "stdout",
          "output_type": "stream",
          "text": [
            "Enter the value of a : 6\n",
            "number is even\n"
          ]
        }
      ],
      "source": [
        "#Que9\n",
        "a=int(input(\"Enter the value of a : \"))\n",
        "if (a%2==0):\n",
        "    print(\"number is even\")\n",
        "else:\n",
        "    print(\"number is odd\")"
      ]
    },
    {
      "cell_type": "code",
      "execution_count": 13,
      "metadata": {
        "colab": {
          "base_uri": "https://localhost:8080/"
        },
        "id": "t0z6HPDjjPs6",
        "outputId": "1bf93406-0690-451f-9004-2896685fbb5c"
      },
      "outputs": [
        {
          "name": "stdout",
          "output_type": "stream",
          "text": [
            "Enter the year : 2004\n",
            "leap year\n"
          ]
        }
      ],
      "source": [
        "#Que10\n",
        "year=int(input(\"Enter the year : \"))\n",
        "if (year%4==0 and year%100!=0) or (year%400==0):\n",
        "    print(\"leap year\")\n",
        "else:\n",
        "    print(\"not a leap year\")"
      ]
    },
    {
      "cell_type": "code",
      "execution_count": 14,
      "metadata": {
        "colab": {
          "base_uri": "https://localhost:8080/"
        },
        "id": "TyQRmus2jfFJ",
        "outputId": "d87a14b0-b67b-4a7e-9413-250b57ba66dd"
      },
      "outputs": [
        {
          "name": "stdout",
          "output_type": "stream",
          "text": [
            "x1:4\n",
            "y1:5\n",
            "x2:7\n",
            "y2:6\n",
            "3.1622776601683795\n"
          ]
        }
      ],
      "source": [
        "#Que11\n",
        "\n",
        "x1,y1 = int(input(\"x1:\")), int(input(\"y1:\"))\n",
        "x2,y2 = int(input(\"x2:\")), int(input(\"y2:\"))\n",
        "distance = ((x2 - x1)**2 + (y2 - y1)**2)**0.5\n",
        "print(distance)\n"
      ]
    },
    {
      "cell_type": "code",
      "execution_count": 15,
      "metadata": {
        "colab": {
          "base_uri": "https://localhost:8080/"
        },
        "id": "hVml3BUBjqF2",
        "outputId": "f2db5d1d-0a1c-4d07-98d4-7aecba9cdcab"
      },
      "outputs": [
        {
          "name": "stdout",
          "output_type": "stream",
          "text": [
            "Enter the value of fisrt angle: 90\n",
            "Enter the value of second angle: 30\n",
            "Enter the value of third angle: 60\n",
            "can make a triangle\n"
          ]
        }
      ],
      "source": [
        "#Que12\n",
        "a=float(input(\"Enter the value of fisrt angle: \"))\n",
        "b=float(input(\"Enter the value of second angle: \"))\n",
        "c=float(input(\"Enter the value of third angle: \"))\n",
        "if (a+b+c==180):\n",
        "    print(\"can make a triangle\")\n",
        "else:\n",
        "    print(\"cannot make a triangle\")\n"
      ]
    },
    {
      "cell_type": "code",
      "execution_count": 16,
      "metadata": {
        "colab": {
          "base_uri": "https://localhost:8080/"
        },
        "id": "XS8qlJO2j7Lu",
        "outputId": "a6f7eb79-0d00-48a1-f1eb-1379a1860509"
      },
      "outputs": [
        {
          "name": "stdout",
          "output_type": "stream",
          "text": [
            "Enter the principal: 10000\n",
            "Enter the annual interest: 7\n",
            "Enter the time (in years): 2\n",
            "Enter the number of times interest is compounded per year: 12\n",
            "Compound Interest:  1498.0601750267306\n",
            "Total Amount :  11498.06017502673\n"
          ]
        }
      ],
      "source": [
        "#Que13\n",
        "principal= float(input(\"Enter the principal: \"))\n",
        "rate= float(input(\"Enter the annual interest: \")) / 100\n",
        "time = float(input(\"Enter the time (in years): \"))\n",
        "n = int(input(\"Enter the number of times interest is compounded per year: \"))\n",
        "\n",
        "amount = principal * (1 + rate / n) ** (n * time)\n",
        "interest = amount - principal\n",
        "print(\"Compound Interest: \",interest)\n",
        "print(\"Total Amount : \",amount)\n"
      ]
    },
    {
      "cell_type": "code",
      "execution_count": 17,
      "metadata": {
        "colab": {
          "base_uri": "https://localhost:8080/"
        },
        "id": "CxQoLoe7kPqA",
        "outputId": "d1d1fc0d-0bfc-4ad3-e672-9c65f2cc4402"
      },
      "outputs": [
        {
          "name": "stdout",
          "output_type": "stream",
          "text": [
            "Enter a positive integer: 7\n",
            "prime number.\n"
          ]
        }
      ],
      "source": [
        "#Que14\n",
        "n= int(input(\"Enter a positive integer: \"))\n",
        "if n<= 1:\n",
        "    print(n,\" is not a prime number.\")\n",
        "else:\n",
        "\n",
        "    prime = True\n",
        "\n",
        "\n",
        "    for i in range(2, int(n**0.5) + 1):\n",
        "        if n% i == 0:\n",
        "            prime = False\n",
        "            break\n",
        "\n",
        "    if prime:\n",
        "        print(\"prime number.\")\n",
        "    else:\n",
        "        print(\"not a prime number.\")"
      ]
    },
    {
      "cell_type": "code",
      "execution_count": 18,
      "metadata": {
        "colab": {
          "base_uri": "https://localhost:8080/"
        },
        "id": "zHyzOWlvkreI",
        "outputId": "69529667-9a95-4232-f430-9cc7ad0e2329"
      },
      "outputs": [
        {
          "name": "stdout",
          "output_type": "stream",
          "text": [
            "Enter a positive integer : 3\n",
            "answer:  14\n"
          ]
        }
      ],
      "source": [
        "#Que15\n",
        "n=int(input(\"Enter a positive integer : \"))\n",
        "answer= n * (n + 1) * (2 * n+ 1) // 6\n",
        "print(\"answer: \",answer)"
      ]
    }
  ],
  "metadata": {
    "colab": {
      "provenance": [],
      "toc_visible": true
    },
    "kernelspec": {
      "display_name": "Python 3",
      "name": "python3"
    },
    "language_info": {
      "name": "python"
    }
  },
  "nbformat": 4,
  "nbformat_minor": 0
}
