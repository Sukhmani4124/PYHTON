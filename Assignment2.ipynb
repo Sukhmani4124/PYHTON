{
  "cells": [
    {
      "cell_type": "code",
      "execution_count": 2,
      "metadata": {
        "colab": {
          "base_uri": "https://localhost:8080/"
        },
        "id": "JcE9ndFrk7UN",
        "outputId": "cb55146b-fdd2-44ce-a252-86ecb55ff2c3"
      },
      "outputs": [
        {
          "name": "stdout",
          "output_type": "stream",
          "text": [
            "Original list is as follows :[11, 12, 13, 14]\n",
            "list is as follows :[11, 12, 13, 14, 50, 60]\n"
          ]
        }
      ],
      "source": [
        "#Que1(i)\n",
        "List=[11,12,13,14]\n",
        "print(f\"Original list is :{List}\")\n",
        "List.append(50)\n",
        "List.append(60)\n",
        "print(f\"list is :{List}\")\n",
        "\n"
      ]
    },
    {
      "cell_type": "code",
      "execution_count": 3,
      "metadata": {
        "colab": {
          "base_uri": "https://localhost:8080/"
        },
        "id": "GaTvQoz3ll00",
        "outputId": "599c9c33-30ce-4906-d409-cb0bbc6176fb"
      },
      "outputs": [
        {
          "name": "stdout",
          "output_type": "stream",
          "text": [
            "Original list is  :[11, 12, 13, 14]\n",
            " list :[12, 14]\n",
            "\n",
            "\n"
          ]
        }
      ],
      "source": [
        "#Que1(ii)\n",
        "L=[11,12,13,14]\n",
        "print(f\"Original list is  :{L}\")\n",
        "L.remove(11)\n",
        "L.remove(13)\n",
        "print(f\" list :{L}\")\n"
      ]
    },
    {
      "cell_type": "code",
      "execution_count": 4,
      "metadata": {
        "colab": {
          "base_uri": "https://localhost:8080/"
        },
        "id": "Pe4OBiWBl2e8",
        "outputId": "93ef2530-d243-4a0f-d863-b1ceb884686d"
      },
      "outputs": [
        {
          "name": "stdout",
          "output_type": "stream",
          "text": [
            "Original list is:[12, 11, 14, 13]\n",
            "list is  :[11, 12, 13, 14]\n"
          ]
        }
      ],
      "source": [
        "# Que1(iii)\n",
        "L=[12,11,14,13]\n",
        "print(f\"Original list is:{L}\")\n",
        "L.sort()\n",
        "print(f\"list is  :{L}\")\n"
      ]
    },
    {
      "cell_type": "code",
      "execution_count": 5,
      "metadata": {
        "colab": {
          "base_uri": "https://localhost:8080/"
        },
        "id": "vXcCqw9tmFI4",
        "outputId": "58503afb-eecc-41f6-ade2-2b514927a87a"
      },
      "outputs": [
        {
          "name": "stdout",
          "output_type": "stream",
          "text": [
            "Original list iss :[11, 12, 13, 14]\n",
            "list is :[14, 13, 12, 11]\n"
          ]
        }
      ],
      "source": [
        "#Que1(iv)\n",
        "print(f\"Original list iss :{L}\")\n",
        "L.reverse()\n",
        "print(f\"list is :{L}\")\n",
        "\n"
      ]
    },
    {
      "cell_type": "code",
      "execution_count": 6,
      "metadata": {
        "colab": {
          "base_uri": "https://localhost:8080/"
        },
        "id": "zueK0DsymNiM",
        "outputId": "db77d21e-d3b8-4ada-8274-127d23074b89"
      },
      "outputs": [
        {
          "name": "stdout",
          "output_type": "stream",
          "text": [
            "Original list is:[11, 12, 13, 14]\n",
            "12 is present \n"
          ]
        }
      ],
      "source": [
        "#Que1(v)\n",
        "L=[11,12,13,14]\n",
        "print(f\"Original list is:{L}\")\n",
        "i=12\n",
        "if i in L:\n",
        "    print(f\"{i} is present \")\n",
        "else:\n",
        "    print(f\"{i} is not present\")\n",
        "\n"
      ]
    },
    {
      "cell_type": "code",
      "execution_count": 7,
      "metadata": {
        "colab": {
          "base_uri": "https://localhost:8080/"
        },
        "id": "DQ9qHLzTmdvg",
        "outputId": "b847616d-68fe-4045-95d6-0d0317a4105b"
      },
      "outputs": [
        {
          "name": "stdout",
          "output_type": "stream",
          "text": [
            "Original list is:[11, 12, 13, 14]\n",
            "length of list is 4\n"
          ]
        }
      ],
      "source": [
        "#Que1(vi)\n",
        "L=[11,12,13,14]\n",
        "print(f\"Original list is:{L}\")\n",
        "print(f\"length of list is {len(L)}\")\n"
      ]
    },
    {
      "cell_type": "code",
      "execution_count": 8,
      "metadata": {
        "colab": {
          "base_uri": "https://localhost:8080/"
        },
        "id": "2Q1TvTcEmpGP",
        "outputId": "6c2e3407-c948-4592-be21-55209014bbb9"
      },
      "outputs": [
        {
          "name": "stdout",
          "output_type": "stream",
          "text": [
            "Original list is:[11, 12, 13, 14]\n",
            "The sum of numbers in L list is : 50\n"
          ]
        }
      ],
      "source": [
        "#Que1(vii)\n",
        "L=[11,12,13,14]\n",
        "print(f\"Original list is:{L}\")\n",
        "total=0\n",
        "for num in L:\n",
        "    total+=num\n",
        "print(\"The sum of numbers in L list is :\",total)\n",
        "\n"
      ]
    },
    {
      "cell_type": "code",
      "execution_count": 9,
      "metadata": {
        "colab": {
          "base_uri": "https://localhost:8080/"
        },
        "id": "zG8Oa1RSm1qZ",
        "outputId": "935c0772-7a37-4e69-a1a8-90e1ced93a50"
      },
      "outputs": [
        {
          "name": "stdout",
          "output_type": "stream",
          "text": [
            "Original list is :[11, 12, 13, 14]\n",
            "Sum of odd number : 24\n"
          ]
        }
      ],
      "source": [
        "#Que1(viii)\n",
        "L=[11,12,13,14]\n",
        "print(f\"Original list is :{L}\")\n",
        "total=0\n",
        "for num in L:\n",
        "    if num%2!=0:\n",
        "        total+=num\n",
        "print(\"Sum of odd number :\",total)\n"
      ]
    },
    {
      "cell_type": "code",
      "execution_count": 10,
      "metadata": {
        "colab": {
          "base_uri": "https://localhost:8080/"
        },
        "id": "1db6PmbsnBl3",
        "outputId": "c4286cf2-b5b0-4dc5-d6fe-1111eb37cdfd"
      },
      "outputs": [
        {
          "name": "stdout",
          "output_type": "stream",
          "text": [
            "[11, 12, 13, 14]\n",
            "The sum of even numbers in list is 24\n"
          ]
        }
      ],
      "source": [
        "#Q1(ix)\n",
        "L=[11,12,13,14]\n",
        "print(L)\n",
        "total=0\n",
        "for num in L:\n",
        "    if num%2!=0:\n",
        "        total+=num\n",
        "print(f\"The sum of even numbers in list is {total}\")"
      ]
    },
    {
      "cell_type": "code",
      "execution_count": 11,
      "metadata": {
        "colab": {
          "base_uri": "https://localhost:8080/"
        },
        "id": "PGa5khRbnRrJ",
        "outputId": "0782e597-bc7f-4885-9d5c-8a00217e1034"
      },
      "outputs": [
        {
          "name": "stdout",
          "output_type": "stream",
          "text": [
            "Sum of prime numbers in the list: 28\n"
          ]
        }
      ],
      "source": [
        "#Que1(x)\n",
        "def is_prime(num):\n",
        "\n",
        "    if num <= 1:\n",
        "        return False\n",
        "    if num <= 3:\n",
        "        return True\n",
        "    if num % 2 == 0 or num % 3 == 0:\n",
        "        return False\n",
        "    i = 5\n",
        "    while i * i <= num:\n",
        "        if num % i == 0 or num % (i + 2) == 0:\n",
        "            return False\n",
        "        i += 6\n",
        "    return True\n",
        "\n",
        "def sum_of_primes(lst):\n",
        "    prime_sum = 0\n",
        "    for num in lst:\n",
        "        if is_prime(num):\n",
        "            prime_sum += num\n",
        "    return prime_sum\n",
        "\n",
        "L = [1, 2, 3, 4, 5, 6, 7, 8, 9, 10, 11]\n",
        "result = sum_of_primes(L)\n",
        "print(\"Sum of prime numbers in the list:\", result)"
      ]
    },
    {
      "cell_type": "code",
      "execution_count": 12,
      "metadata": {
        "colab": {
          "base_uri": "https://localhost:8080/"
        },
        "id": "Rz087vATnoZA",
        "outputId": "002458be-d3a2-4d9c-b6bb-1a3207c5a954"
      },
      "outputs": [
        {
          "name": "stdout",
          "output_type": "stream",
          "text": [
            "Orginal list is: [11, 12, 13, 14]\n",
            " list is :[]\n"
          ]
        }
      ],
      "source": [
        "#Que1(xi)\n",
        "L=[11,12,13,14]\n",
        "print(f\"Orginal list is: {L}\")\n",
        "L.clear()\n",
        "print(f\" list is :{L}\")\n"
      ]
    },
    {
      "cell_type": "code",
      "execution_count": 15,
      "metadata": {
        "colab": {
          "base_uri": "https://localhost:8080/"
        },
        "id": "cRM7oHUlnwp0",
        "outputId": "592702b9-7990-4e3a-ab61-d94bc2dd9821"
      },
      "outputs": [
        {
          "name": "stdout",
          "output_type": "stream",
          "text": [
            "Orginal list is: [11, 12, 13, 14]\n"
          ]
        }
      ],
      "source": [
        "#Que1(xii)\n",
        "L=[11,12,13,14]\n",
        "print(f\"Orginal list is: {L}\")\n",
        "del L"
      ]
    },
    {
      "cell_type": "code",
      "execution_count": 16,
      "metadata": {
        "colab": {
          "base_uri": "https://localhost:8080/"
        },
        "id": "pNYsPBteoNqP",
        "outputId": "65fb8aed-78ad-4d0f-f5da-2798fb2f8cc8"
      },
      "outputs": [
        {
          "name": "stdout",
          "output_type": "stream",
          "text": [
            "The sum of numbers in list is: 50\n"
          ]
        }
      ],
      "source": [
        "#Que2\n",
        "l=[11,12,13,14]\n",
        "total=0\n",
        "for num in l:\n",
        "    total+=num\n",
        "print(f\"The sum of numbers in list is: {total}\")\n"
      ]
    },
    {
      "cell_type": "code",
      "execution_count": 17,
      "metadata": {
        "colab": {
          "base_uri": "https://localhost:8080/"
        },
        "id": "wjeWulL7oVoa",
        "outputId": "28166cad-6df8-4f70-f7ae-21da1bcbe709"
      },
      "outputs": [
        {
          "name": "stdout",
          "output_type": "stream",
          "text": [
            "The multiplication of all the elements in the list is :43680\n"
          ]
        }
      ],
      "source": [
        "#Que3\n",
        "l=[13,15,14,16]\n",
        "total=1\n",
        "for num in l:\n",
        "    total*=num\n",
        "print(f\"The multiplication of all the elements in the list is :{total}\")"
      ]
    },
    {
      "cell_type": "code",
      "execution_count": 18,
      "metadata": {
        "colab": {
          "base_uri": "https://localhost:8080/"
        },
        "id": "5pIug4GYokL5",
        "outputId": "8d09dfab-f663-4fdb-b621-35add2f75275"
      },
      "outputs": [
        {
          "name": "stdout",
          "output_type": "stream",
          "text": [
            "Updated dictionary is :{1: 5.6, 2: 7.8, 3: 6.6, 4: 8.7, 5: 7.7, 8: 8.8}\n",
            "Updated dictionary is :{1: 5.6, 3: 6.6, 4: 8.7, 5: 7.7}\n",
            "Previous disctionary is :  {1: 5.6, 3: 6.6, 4: 8.7, 5: 7.7}\n",
            "6 key is not present\n",
            "Length of the dictionary is : 5\n",
            "value of key 3 is :  {1: 5.6, 2: 7.8, 3: 7.1, 4: 8.7, 5: 7.7}\n",
            "After clearing the dictionary : {}\n"
          ]
        }
      ],
      "source": [
        "#Que5\n",
        "D= {1:5.6, 2:7.8, 3:6.6, 4:8.7, 5:7.7}\n",
        "D[8]=8.8\n",
        "print(f\"Updated dictionary is :{D}\")\n",
        "\n",
        "\n",
        "D= {1:5.6, 2:7.8, 3:6.6, 4:8.7, 5:7.7}\n",
        "D.pop(2)\n",
        "print(f\"Updated dictionary is :{D}\")\n",
        "\n",
        "print(\"Previous disctionary is : \",D)\n",
        "key=6\n",
        "if key in D:\n",
        "    print(f\"6{key} is present\")\n",
        "else:\n",
        "    print(\"6 key is not present\")\n",
        "\n",
        "D= {1:5.6, 2:7.8, 3:6.6, 4:8.7, 5:7.7}\n",
        "len(D)\n",
        "print(\"Length of the dictionary is :\",len(D))\n",
        "\n",
        "D= {1:5.6, 2:7.8, 3:6.6, 4:8.7, 5:7.7}\n",
        "D[3]=7.1\n",
        "print(\"value of key 3 is : \",D)\n",
        "\n",
        "D= {1:5.6, 2:7.8, 3:6.6, 4:8.7, 5:7.7}\n",
        "D.clear()\n",
        "print(\"After clearing the dictionary :\",D)\n",
        "\n"
      ]
    },
    {
      "cell_type": "code",
      "execution_count": 19,
      "metadata": {
        "colab": {
          "base_uri": "https://localhost:8080/"
        },
        "id": "5bwUUdrJpR4O",
        "outputId": "002e7a4a-f444-49fe-c250-686bd00a1537"
      },
      "outputs": [
        {
          "name": "stdout",
          "output_type": "stream",
          "text": [
            "Updated S1 list is : [10, 20, 30, 40, 50, 60, 55, 66]\n",
            "Updated S1 list is : [20, 40, 50, 60]\n",
            "40 is present in List S1\n",
            "Union of S1 and S2 : [70, 40, 10, 80, 50, 20, 90, 60, 30]\n",
            "(v) Intersection of S1 and S2 : [40, 50, 60]\n",
            "(vi) Difference of S1 and S2 : [10, 20, 30]\n"
          ]
        }
      ],
      "source": [
        "#Q6\n",
        "S1= [10, 20, 30, 40, 50, 60]\n",
        "S2= [40, 50, 60, 70, 80,90]\n",
        "S1.append(55)\n",
        "S1.append(66)\n",
        "print(\"Updated S1 list is :\",S1)\n",
        "\n",
        "S1= [10, 20, 30, 40, 50, 60]\n",
        "S2= [40, 50, 60, 70, 80,90]\n",
        "S1.remove(10)\n",
        "S1.remove(30)\n",
        "print(\"Updated S1 list is :\",S1)\n",
        "\n",
        "S1= [10, 20, 30, 40, 50, 60]\n",
        "S2= [40, 50, 60, 70, 80,90]\n",
        "NUM=40\n",
        "if NUM in S1:\n",
        "    print(f\"{NUM} is present in List S1\")\n",
        "else:\n",
        "    print(f\" {NUM} is not present in List S1\")\n",
        "\n",
        "union=list(set(S1)|set(S2))\n",
        "print(\"Union of S1 and S2 :\",union)\n",
        "\n",
        "intersection=list(set(S1)&set(S2))\n",
        "print(\"(v) Intersection of S1 and S2 :\",intersection)\n",
        "\n",
        "difference=list(set(S1)-set(S2))\n",
        "print(\"(vi) Difference of S1 and S2 :\",difference)\n"
      ]
    },
    {
      "cell_type": "code",
      "execution_count": 20,
      "metadata": {
        "colab": {
          "base_uri": "https://localhost:8080/"
        },
        "id": "Bvc7qEiWp2pe",
        "outputId": "d634a2c2-d455-44d2-c209-275f6e5e299a"
      },
      "outputs": [
        {
          "name": "stdout",
          "output_type": "stream",
          "text": [
            "601,607,613,617,619,631,641,643,647,653,659,661,673,677,683,691,701,709,719,727,733,739,743,751,757,761,769,773,787,797,126 189 252 315 378 441 504 567 630 693 756 819 882 945 "
          ]
        }
      ],
      "source": [
        "#Que7\n",
        "for num in range(600,801):\n",
        "    if num>1:\n",
        "        for i in range(2,int(num**0.5)+1):\n",
        "          if num%i==0:\n",
        "              break\n",
        "        else:\n",
        "            print(num,end=\",\")\n",
        "\n",
        "for num in range(100,1001):\n",
        "    if num%7==0 and num%9==0:\n",
        "\n",
        "        print(num,end=\" \")"
      ]
    },
    {
      "cell_type": "code",
      "execution_count": 22,
      "metadata": {
        "colab": {
          "base_uri": "https://localhost:8080/"
        },
        "id": "nFpQs-4AqEH_",
        "outputId": "0e459600-a016-4252-ca7e-082d69b531a2"
      },
      "outputs": [
        {
          "name": "stdout",
          "output_type": "stream",
          "text": [
            "The examination date is: 23/9/2024\n"
          ]
        }
      ],
      "source": [
        "#Que8\n",
        "exam = (23, 9, 2024)\n",
        "\n",
        "print(f\"The examination date is: {exam[0]}/{exam[1]}/{exam[2]}\")\n"
      ]
    },
    {
      "cell_type": "code",
      "execution_count": 23,
      "metadata": {
        "colab": {
          "base_uri": "https://localhost:8080/"
        },
        "id": "zmVOzGqVqTs1",
        "outputId": "5fe6d869-12db-4be6-d0ea-4cceb61e6b51"
      },
      "outputs": [
        {
          "name": "stdout",
          "output_type": "stream",
          "text": [
            "10 45 60 75 55 715 10090 "
          ]
        }
      ],
      "source": [
        "#Que9\n",
        "numbers = [6, 10, 45, 60, 75, 3, 55, 715, 10090]\n",
        "for number in numbers:\n",
        "    if number % 5 == 0:\n",
        "        print(number,end=\" \")\n"
      ]
    },
    {
      "cell_type": "code",
      "execution_count": 24,
      "metadata": {
        "colab": {
          "base_uri": "https://localhost:8080/"
        },
        "id": "ZK-JbDzyqZ9x",
        "outputId": "5737a554-92e3-485f-a4cd-ccbe3e3b1e2e"
      },
      "outputs": [
        {
          "name": "stdout",
          "output_type": "stream",
          "text": [
            "Enter a number : 50\n",
            "even\n"
          ]
        }
      ],
      "source": [
        "#Que10\n",
        "a=int(input(\"Enter a number : \"))\n",
        "even=a%2==0\n",
        "if (even==True):\n",
        "    print(\"even\")\n",
        "else:\n",
        "    print(\"odd\")"
      ]
    },
    {
      "cell_type": "code",
      "execution_count": 25,
      "metadata": {
        "colab": {
          "base_uri": "https://localhost:8080/"
        },
        "id": "zPxUWl31qjN-",
        "outputId": "6f15a6cd-afca-4611-acaf-158140d426a9"
      },
      "outputs": [
        {
          "name": "stdout",
          "output_type": "stream",
          "text": [
            "The substring 'Thapar' appears 2 times in the given string.\n"
          ]
        }
      ],
      "source": [
        "#Que11\n",
        "string = \"Thapar is one of the best university.Thapar has a good infrastructure\"\n",
        "count = string.count(\"Thapar\")\n",
        "\n",
        "print(f\"The substring 'Thapar' appears {count} times in the given string.\")"
      ]
    }
  ],
  "metadata": {
    "colab": {
      "provenance": []
    },
    "kernelspec": {
      "display_name": "Python 3",
      "name": "python3"
    },
    "language_info": {
      "name": "python"
    }
  },
  "nbformat": 4,
  "nbformat_minor": 0
}
