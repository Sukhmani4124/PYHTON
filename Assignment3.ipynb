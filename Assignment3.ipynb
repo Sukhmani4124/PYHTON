{
  "cells": [
    {
      "cell_type": "code",
      "execution_count": 1,
      "metadata": {
        "colab": {
          "base_uri": "https://localhost:8080/"
        },
        "id": "QYC3BJDYqubF",
        "outputId": "549c6992-eea5-4033-a415-96bc6b20314d"
      },
      "outputs": [
        {
          "name": "stdout",
          "output_type": "stream",
          "text": [
            "Enter a number: 4\n",
            "The result is: 13\n"
          ]
        }
      ],
      "source": [
        "#Que1\n",
        "def diff(n):\n",
        "    if n > 17:\n",
        "        return 2 * abs(n- 17)\n",
        "    else:\n",
        "        return 17 - n\n",
        "\n",
        "n = int(input(\"Enter a number: \"))\n",
        "result = diff(n)\n",
        "print(f\"The result is: {result}\")"
      ]
    },
    {
      "cell_type": "code",
      "execution_count": 2,
      "metadata": {
        "colab": {
          "base_uri": "https://localhost:8080/"
        },
        "id": "Eu-dw5eMsl-h",
        "outputId": "6d09b207-7ebe-45ec-8b5e-654c0e9254f2"
      },
      "outputs": [
        {
          "name": "stdout",
          "output_type": "stream",
          "text": [
            "Enter a number : 30\n",
            "30 is not within the range 100 to 1000 or 2000.\n"
          ]
        }
      ],
      "source": [
        "#Que2\n",
        "def check(n):\n",
        "  if n>=100 and n<=1000 or n==2000:\n",
        "    return 1\n",
        "  else:\n",
        "    return 0\n",
        "\n",
        "n=int(input(\"Enter a number : \"))\n",
        "result=check(n)\n",
        "if result:\n",
        "    print(f\"{n} is within the range 100 to 1000 or it is 2000.\")\n",
        "else:\n",
        "    print(f\"{n} is not within the range 100 to 1000 or 2000.\")\n"
      ]
    },
    {
      "cell_type": "code",
      "execution_count": 3,
      "metadata": {
        "colab": {
          "base_uri": "https://localhost:8080/"
        },
        "id": "lnJadB3Fs2sA",
        "outputId": "3edee8c5-9b68-43e5-d062-2fb97cabe911"
      },
      "outputs": [
        {
          "name": "stdout",
          "output_type": "stream",
          "text": [
            "Enter a string: sukhmani\n",
            "The reversed string is: inamhkus\n"
          ]
        }
      ],
      "source": [
        "#Que3\n",
        "def rev(s):\n",
        "    return s[::-1]\n",
        "\n",
        "str= input(\"Enter a string: \")\n",
        "rev_string = rev(str)\n",
        "print(f\"The reversed string is: {rev_string}\")"
      ]
    },
    {
      "cell_type": "code",
      "execution_count": 4,
      "metadata": {
        "colab": {
          "base_uri": "https://localhost:8080/"
        },
        "id": "40dEyqa2tFF7",
        "outputId": "4c6aa4f8-33f5-4b84-e9f4-5b8100157bdc"
      },
      "outputs": [
        {
          "name": "stdout",
          "output_type": "stream",
          "text": [
            "Enter a string: sUkhmani\n",
            "Uppercase letters: 1\n",
            "Lowercase letters: 7\n"
          ]
        }
      ],
      "source": [
        "#Que4\n",
        "def count(str):\n",
        "    upper = 0\n",
        "    lower = 0\n",
        "\n",
        "    for letter in str:\n",
        "        if letter.isupper():\n",
        "            upper += 1\n",
        "        elif letter.islower():\n",
        "            lower += 1\n",
        "\n",
        "    return upper, lower\n",
        "\n",
        "str = input(\"Enter a string: \")\n",
        "upper, lower = count(str)\n",
        "\n",
        "print(f\"Uppercase letters: {upper}\")\n",
        "print(f\"Lowercase letters: {lower}\")"
      ]
    },
    {
      "cell_type": "code",
      "execution_count": 5,
      "metadata": {
        "colab": {
          "base_uri": "https://localhost:8080/"
        },
        "id": "uv-JoqCptlD5",
        "outputId": "87798bc2-aac9-4000-b15e-8cb1aef952da"
      },
      "outputs": [
        {
          "name": "stdout",
          "output_type": "stream",
          "text": [
            "Original list: [2, 4, 6, 8, 10, 100, 63, 34]\n",
            "List with distinct elements: [2, 34, 4, 100, 6, 8, 10, 63]\n"
          ]
        }
      ],
      "source": [
        "#Que5\n",
        "def List(num):\n",
        "    return list(set(num))\n",
        "\n",
        "Lis= [2,4,6,8,10,100,63,34]\n",
        "distinctlist =List(Lis)\n",
        "\n",
        "print(\"Original list:\", Lis)\n",
        "print(\"List with distinct elements:\", distinctlist)"
      ]
    },
    {
      "cell_type": "code",
      "execution_count": 6,
      "metadata": {
        "colab": {
          "base_uri": "https://localhost:8080/"
        },
        "id": "8gUCZJ1LtyS0",
        "outputId": "15bb4a08-c187-402b-98eb-63faf6942430"
      },
      "outputs": [
        {
          "name": "stdout",
          "output_type": "stream",
          "text": [
            "Even numbers: [10, 8, 6, 4, 2]\n"
          ]
        }
      ],
      "source": [
        "#Que6\n",
        "def even(Lis):\n",
        "    even = [n for n in Lis if n % 2 == 0]\n",
        "    return even\n",
        "Lis= [10,9,8,7,6,5,4,3,2,1]\n",
        "result = even(Lis)\n",
        "\n",
        "print(f\"Even numbers: {result}\")"
      ]
    },
    {
      "cell_type": "code",
      "execution_count": 7,
      "metadata": {
        "colab": {
          "base_uri": "https://localhost:8080/"
        },
        "id": "9sr9AtRJuAfa",
        "outputId": "67c6f999-c1a3-4c5f-ba3e-35b1305152b6"
      },
      "outputs": [
        {
          "name": "stdout",
          "output_type": "stream",
          "text": [
            "Hello World\n"
          ]
        }
      ],
      "source": [
        "#Que7\n",
        "def outer(text):\n",
        "    def inner():\n",
        "        print(f\"Hello {text}\")\n",
        "\n",
        "    inner()\n",
        "\n",
        "outer(\"World\")"
      ]
    },
    {
      "cell_type": "code",
      "execution_count": 9,
      "metadata": {
        "colab": {
          "base_uri": "https://localhost:8080/"
        },
        "id": "8bHEqdFquWUp",
        "outputId": "4fc795e5-63dd-4358-d00a-5d24b3175e97"
      },
      "outputs": [
        {
          "name": "stdout",
          "output_type": "stream",
          "text": [
            "Name : Sukhmani Kaur\n",
            "Age : 19\n",
            "Grade : 2nd year\n"
          ]
        }
      ],
      "source": [
        "#Que8\n",
        "def student(Name, Age, Grade):\n",
        "    student.Name = Name\n",
        "    student.Age = Age\n",
        "    student.Grade = Grade\n",
        "\n",
        "    for attribute in student.__dict__:\n",
        "        print(f\"{attribute} : {getattr(student, attribute)}\")\n",
        "\n",
        "student(\"Sukhmani Kaur\",19,\"2nd year\")"
      ]
    },
    {
      "cell_type": "code",
      "execution_count": 10,
      "metadata": {
        "colab": {
          "base_uri": "https://localhost:8080/"
        },
        "id": "511445Y6uhYl",
        "outputId": "086d47ce-fa36-41a8-8e2e-de52a645c728"
      },
      "outputs": [
        {
          "name": "stdout",
          "output_type": "stream",
          "text": [
            "Student ID: 102323051\n",
            "Student Name: Sukhmani Kaur\n",
            "Student Class:  2nd Year\n"
          ]
        }
      ],
      "source": [
        "#Que9\n",
        "class Student:\n",
        "    def __init__(self, student_id, student_name):\n",
        "        self.student_id = student_id\n",
        "        self.student_name = student_name\n",
        "        self.student_class = None\n",
        "\n",
        "    def set_student_class(self, student_class):\n",
        "        self.student_class = student_class\n",
        "\n",
        "    def display_attributes(self):\n",
        "\n",
        "        print(f\"Student ID: {self.student_id}\")\n",
        "        print(f\"Student Name: {self.student_name}\")\n",
        "        print(f\"Student Class: {self.student_class}\")\n",
        "\n",
        "\n",
        "student1 = Student(102323051, \"Sukhmani Kaur\")\n",
        "student1.set_student_class(\" 2nd Year\")\n",
        "student1.display_attributes()"
      ]
    },
    {
      "cell_type": "code",
      "execution_count": 15,
      "metadata": {
        "colab": {
          "base_uri": "https://localhost:8080/"
        },
        "id": "MXCDhPMUuxSY",
        "outputId": "7a7c2426-fe23-4af1-9b5d-7569172f8911"
      },
      "outputs": [
        {
          "name": "stdout",
          "output_type": "stream",
          "text": [
            "Attributes of student 1:\n",
            "Student ID: 1\n",
            "Student Name: Sukhmani Kaur\n",
            "Student Class: Second Year\n",
            "\n",
            "Attributes of student 2:\n",
            "Student ID: 2\n",
            "Student Name: Lavanya\n",
            "Student Class: first Year\n"
          ]
        }
      ],
      "source": [
        "class Student:\n",
        "    def __init__(self, student_id, student_name, student_class):\n",
        "        self.student_id = student_id\n",
        "        self.student_name = student_name\n",
        "        self.student_class = student_class\n",
        "\n",
        "    def display_attributes(self):\n",
        "        print(f\"Student ID: {self.student_id}\")\n",
        "        print(f\"Student Name: {self.student_name}\")\n",
        "        print(f\"Student Class: {self.student_class}\")\n",
        "\n",
        "student1 = Student(1, \"Sukhmani Kaur\", \"Second Year\")\n",
        "student2 = Student(2, \"Lavanya\", \"first Year\")\n",
        "\n",
        "#student1\n",
        "print(\"Attributes of student 1:\")\n",
        "student1.display_attributes()\n",
        "print()\n",
        "\n",
        "#student2\n",
        "print(\"Attributes of student 2:\")\n",
        "student2.display_attributes()"
      ]
    },
    {
      "cell_type": "code",
      "execution_count": 13,
      "metadata": {
        "colab": {
          "base_uri": "https://localhost:8080/"
        },
        "id": "x9DHHAoqvYcG",
        "outputId": "5429d98a-e048-4d63-89df-7b14a3cc9e18"
      },
      "outputs": [
        {
          "name": "stdout",
          "output_type": "stream",
          "text": [
            "Area of the circle: 28.274333882308138\n",
            "Perimeter of the circle: 18.84955592153876\n"
          ]
        }
      ],
      "source": [
        "#11\n",
        "import math\n",
        "\n",
        "class Circle:\n",
        "    def __init__(self, radius):\n",
        "        self.radius = radius\n",
        "\n",
        "    def area(self):\n",
        "        return math.pi * (self.radius ** 2)\n",
        "\n",
        "    def perimeter(self):\n",
        "        return 2 * math.pi * self.radius\n",
        "\n",
        "circle = Circle(3)\n",
        "\n",
        "print(f\"Area of the circle: {circle.area()}\")\n",
        "print(f\"Perimeter of the circle: {circle.perimeter()}\")\n"
      ]
    },
    {
      "cell_type": "code",
      "execution_count": null,
      "metadata": {
        "id": "m_jC9YeTv5AZ"
      },
      "outputs": [],
      "source": [
        "#12\n",
        "class string_in_upper_case:\n",
        "    def __init__(self):\n",
        "        self.text = \"\"\n",
        "\n",
        "    def get_String(self):\n",
        "        self.text = input(\"Enter a string: \")\n",
        "\n",
        "    def print_String(self):\n",
        "        print(self.text.upper())\n",
        "\n",
        "string_in_upper_case = string_in_upper_case()\n",
        "string_in_upper_case.get_String()\n",
        "string_in_upper_case.print_String()"
      ]
    }
  ],
  "metadata": {
    "colab": {
      "provenance": []
    },
    "kernelspec": {
      "display_name": "Python 3",
      "name": "python3"
    },
    "language_info": {
      "name": "python"
    }
  },
  "nbformat": 4,
  "nbformat_minor": 0
}
